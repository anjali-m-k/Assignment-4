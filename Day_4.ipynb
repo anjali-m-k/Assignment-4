{
  "nbformat": 4,
  "nbformat_minor": 0,
  "metadata": {
    "colab": {
      "name": "Day 4.ipynb",
      "provenance": []
    },
    "kernelspec": {
      "name": "python3",
      "display_name": "Python 3"
    }
  },
  "cells": [
    {
      "cell_type": "markdown",
      "metadata": {
        "id": "jVM2_7ddyotR"
      },
      "source": [
        "Answer 1"
      ]
    },
    {
      "cell_type": "code",
      "metadata": {
        "id": "-q8yWnlkyji-",
        "outputId": "5845bf86-cd26-4b46-ea2b-f23141b31023",
        "colab": {
          "base_uri": "https://localhost:8080/"
        }
      },
      "source": [
        "import pandas as pd\n",
        "print(pd.__version__)"
      ],
      "execution_count": 1,
      "outputs": [
        {
          "output_type": "stream",
          "text": [
            "1.1.4\n"
          ],
          "name": "stdout"
        }
      ]
    },
    {
      "cell_type": "markdown",
      "metadata": {
        "id": "AkEfv3OWuRtn"
      },
      "source": [
        "Annwer 2"
      ]
    },
    {
      "cell_type": "code",
      "metadata": {
        "id": "2LDmwMmDuTXc",
        "outputId": "875c51d9-f94b-459d-f54b-a572a0983a79",
        "colab": {
          "base_uri": "https://localhost:8080/"
        }
      },
      "source": [
        "import pandas as pd\n",
        "import numpy as np\n",
        "arr=np.array([int(item) for item in input().split()])\n",
        "p=pd.Series(arr)\n",
        "print(p)"
      ],
      "execution_count": 52,
      "outputs": [
        {
          "output_type": "stream",
          "text": [
            "1 2 3 4 5 6 7 8 9\n",
            "0    1\n",
            "1    2\n",
            "2    3\n",
            "3    4\n",
            "4    5\n",
            "5    6\n",
            "6    7\n",
            "7    8\n",
            "8    9\n",
            "dtype: int64\n"
          ],
          "name": "stdout"
        }
      ]
    },
    {
      "cell_type": "markdown",
      "metadata": {
        "id": "xnD6CXH4u0S_"
      },
      "source": [
        "Answer 3"
      ]
    },
    {
      "cell_type": "code",
      "metadata": {
        "id": "gJC2G-lmuwTm",
        "outputId": "f573a5b9-0c15-4b7c-c8f0-7666fd3004a8",
        "colab": {
          "base_uri": "https://localhost:8080/"
        }
      },
      "source": [
        "import pandas as pd\n",
        "sal=[(12,\"Reenat\",23,\"Delhi\",55000),\n",
        "     (13,\"Zeda\",27,\"Roorkee\",77000),\n",
        "     (14,\"Rayyan\",25,\"Kolkata\",67000),\n",
        "     (15,\"Dheeraj\",32,\"Delhi\",80000)\n",
        "     ]\n",
        "df=pd.DataFrame(sal,columns=[\"ID\",\"Name\",\"Age\",\"City\",\"salary\"])\n",
        "\n",
        "\n",
        "df.reset_index(inplace=True)\n",
        "print(df)"
      ],
      "execution_count": 51,
      "outputs": [
        {
          "output_type": "stream",
          "text": [
            "   index  ID     Name  Age     City  salary\n",
            "0      0  12   Reenat   23    Delhi   55000\n",
            "1      1  13     Zeda   27  Roorkee   77000\n",
            "2      2  14   Rayyan   25  Kolkata   67000\n",
            "3      3  15  Dheeraj   32    Delhi   80000\n"
          ],
          "name": "stdout"
        }
      ]
    },
    {
      "cell_type": "markdown",
      "metadata": {
        "id": "zEhAtmwfy_Pt"
      },
      "source": [
        "Answers 4"
      ]
    },
    {
      "cell_type": "code",
      "metadata": {
        "id": "sxCwx7YJ88nf",
        "outputId": "12677a8d-df25-4f86-a2c5-cc4ce15bf190",
        "colab": {
          "base_uri": "https://localhost:8080/"
        }
      },
      "source": [
        "import seaborn as sns\n",
        "print(sns.get_dataset_names())"
      ],
      "execution_count": 33,
      "outputs": [
        {
          "output_type": "stream",
          "text": [
            "['anagrams', 'anscombe', 'attention', 'brain_networks', 'car_crashes', 'diamonds', 'dots', 'exercise', 'flights', 'fmri', 'gammas', 'geyser', 'iris', 'mpg', 'penguins', 'planets', 'tips', 'titanic']\n"
          ],
          "name": "stdout"
        }
      ]
    },
    {
      "cell_type": "code",
      "metadata": {
        "id": "mgQDE-2W-56I",
        "outputId": "1954a153-997e-4ba7-afa5-3117e82f45aa",
        "colab": {
          "base_uri": "https://localhost:8080/"
        }
      },
      "source": [
        "print(mpg)"
      ],
      "execution_count": 53,
      "outputs": [
        {
          "output_type": "stream",
          "text": [
            "      mpg  cylinders  ...  origin                       name\n",
            "0    18.0          8  ...     usa  chevrolet chevelle malibu\n",
            "1    15.0          8  ...     usa          buick skylark 320\n",
            "2    18.0          8  ...     usa         plymouth satellite\n",
            "3    16.0          8  ...     usa              amc rebel sst\n",
            "4    17.0          8  ...     usa                ford torino\n",
            "..    ...        ...  ...     ...                        ...\n",
            "393  27.0          4  ...     usa            ford mustang gl\n",
            "394  44.0          4  ...  europe                  vw pickup\n",
            "395  32.0          4  ...     usa              dodge rampage\n",
            "396  28.0          4  ...     usa                ford ranger\n",
            "397  31.0          4  ...     usa                 chevy s-10\n",
            "\n",
            "[398 rows x 9 columns]\n"
          ],
          "name": "stdout"
        }
      ]
    },
    {
      "cell_type": "markdown",
      "metadata": {
        "id": "N6ouAAUV_NQ8"
      },
      "source": [
        "Answer 5"
      ]
    },
    {
      "cell_type": "code",
      "metadata": {
        "id": "npZb3KEA_Oub",
        "outputId": "7e1e207b-3d5e-4626-9a1b-0999efb4e9ae",
        "colab": {
          "base_uri": "https://localhost:8080/"
        }
      },
      "source": [
        "mpg[\"origin\"].unique()"
      ],
      "execution_count": 49,
      "outputs": [
        {
          "output_type": "execute_result",
          "data": {
            "text/plain": [
              "array(['usa', 'japan', 'europe'], dtype=object)"
            ]
          },
          "metadata": {
            "tags": []
          },
          "execution_count": 49
        }
      ]
    },
    {
      "cell_type": "markdown",
      "metadata": {
        "id": "MQFN6V_kBued"
      },
      "source": [
        "Answer 6"
      ]
    },
    {
      "cell_type": "code",
      "metadata": {
        "id": "OT_QyQum_6lg",
        "outputId": "7012035a-af17-4562-b57f-7a2877b6a25b",
        "colab": {
          "base_uri": "https://localhost:8080/"
        }
      },
      "source": [
        "print(mpg[mpg[\"origin\"]==\"usa\"])"
      ],
      "execution_count": 48,
      "outputs": [
        {
          "output_type": "stream",
          "text": [
            "      mpg  cylinders  ...  origin                       name\n",
            "0    18.0          8  ...     usa  chevrolet chevelle malibu\n",
            "1    15.0          8  ...     usa          buick skylark 320\n",
            "2    18.0          8  ...     usa         plymouth satellite\n",
            "3    16.0          8  ...     usa              amc rebel sst\n",
            "4    17.0          8  ...     usa                ford torino\n",
            "..    ...        ...  ...     ...                        ...\n",
            "392  27.0          4  ...     usa           chevrolet camaro\n",
            "393  27.0          4  ...     usa            ford mustang gl\n",
            "395  32.0          4  ...     usa              dodge rampage\n",
            "396  28.0          4  ...     usa                ford ranger\n",
            "397  31.0          4  ...     usa                 chevy s-10\n",
            "\n",
            "[249 rows x 9 columns]\n"
          ],
          "name": "stdout"
        }
      ]
    }
  ]
}